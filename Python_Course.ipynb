{
  "nbformat": 4,
  "nbformat_minor": 0,
  "metadata": {
    "colab": {
      "provenance": [],
      "authorship_tag": "ABX9TyPD2PX73ShRcJNz1FkAuKG/",
      "include_colab_link": true
    },
    "kernelspec": {
      "name": "python3",
      "display_name": "Python 3"
    },
    "language_info": {
      "name": "python"
    }
  },
  "cells": [
    {
      "cell_type": "markdown",
      "metadata": {
        "id": "view-in-github",
        "colab_type": "text"
      },
      "source": [
        "<a href=\"https://colab.research.google.com/github/Nontakul/Python-Project/blob/main/Python_Course.ipynb\" target=\"_parent\"><img src=\"https://colab.research.google.com/assets/colab-badge.svg\" alt=\"Open In Colab\"/></a>"
      ]
    },
    {
      "cell_type": "markdown",
      "source": [
        "**Escape Characters**"
      ],
      "metadata": {
        "id": "h1d4l4npnnVJ"
      }
    },
    {
      "cell_type": "code",
      "source": [
        "print('\"Isn\\'t,\" she said.')"
      ],
      "metadata": {
        "colab": {
          "base_uri": "https://localhost:8080/"
        },
        "id": "jebJy5MRns8I",
        "outputId": "2d703358-d1a7-4248-fecf-88b6c80c5738"
      },
      "execution_count": null,
      "outputs": [
        {
          "output_type": "stream",
          "name": "stdout",
          "text": [
            "\"Isn't,\" she said.\n"
          ]
        }
      ]
    },
    {
      "cell_type": "code",
      "source": [
        "print('\"Isn't\", she said.')"
      ],
      "metadata": {
        "colab": {
          "base_uri": "https://localhost:8080/",
          "height": 133
        },
        "id": "eRhgr-M_o8-D",
        "outputId": "212f79e8-beda-43c9-f123-e34f8d080550"
      },
      "execution_count": null,
      "outputs": [
        {
          "output_type": "error",
          "ename": "SyntaxError",
          "evalue": "ignored",
          "traceback": [
            "\u001b[0;36m  File \u001b[0;32m\"<ipython-input-11-af10ea6fd0dd>\"\u001b[0;36m, line \u001b[0;32m1\u001b[0m\n\u001b[0;31m    print('\"Isn't\", she said.')\u001b[0m\n\u001b[0m                ^\u001b[0m\n\u001b[0;31mSyntaxError\u001b[0m\u001b[0;31m:\u001b[0m invalid syntax\n"
          ]
        }
      ]
    },
    {
      "cell_type": "code",
      "source": [
        "s = 'First line. \\nSecond line.'\n",
        "print(s)"
      ],
      "metadata": {
        "colab": {
          "base_uri": "https://localhost:8080/"
        },
        "id": "TY7XPcEeoiLu",
        "outputId": "d162fe93-3bdb-4d75-d3ef-7675660da7e0"
      },
      "execution_count": null,
      "outputs": [
        {
          "output_type": "stream",
          "name": "stdout",
          "text": [
            "First line. \n",
            "Second line.\n"
          ]
        }
      ]
    },
    {
      "cell_type": "markdown",
      "source": [
        "**Displaying String**"
      ],
      "metadata": {
        "id": "qmw5jr00o5cn"
      }
    },
    {
      "cell_type": "code",
      "source": [
        "print(r'C:\\some\\name')"
      ],
      "metadata": {
        "colab": {
          "base_uri": "https://localhost:8080/"
        },
        "id": "oxr1EBx3pW9M",
        "outputId": "d2a7c53b-1f9b-41e0-a3f7-4f0a22ff2cb0"
      },
      "execution_count": null,
      "outputs": [
        {
          "output_type": "stream",
          "name": "stdout",
          "text": [
            "C:\\some\\name\n"
          ]
        }
      ]
    },
    {
      "cell_type": "code",
      "source": [
        "print('C:\\some\\name')"
      ],
      "metadata": {
        "colab": {
          "base_uri": "https://localhost:8080/"
        },
        "id": "WibuzGGApefM",
        "outputId": "9650830b-ff6a-4d32-8db8-a1921576daa3"
      },
      "execution_count": null,
      "outputs": [
        {
          "output_type": "stream",
          "name": "stdout",
          "text": [
            "C:\\some\n",
            "ame\n"
          ]
        }
      ]
    },
    {
      "cell_type": "markdown",
      "source": [
        "**Multi-Line String Litereals**"
      ],
      "metadata": {
        "id": "taodvP7JpoH_"
      }
    },
    {
      "cell_type": "code",
      "source": [
        "s = \"\"\"\n",
        "muti-line\n",
        "text!\n",
        "\"\"\"\n",
        "print(s)"
      ],
      "metadata": {
        "colab": {
          "base_uri": "https://localhost:8080/"
        },
        "id": "nG-NKWG3ptKW",
        "outputId": "f124c165-7026-480d-9750-2d22b19b163c"
      },
      "execution_count": null,
      "outputs": [
        {
          "output_type": "stream",
          "name": "stdout",
          "text": [
            "\n",
            "muti-line\n",
            "text!\n",
            "\n"
          ]
        }
      ]
    },
    {
      "cell_type": "code",
      "source": [
        "s = \"\"\"\\\n",
        "muti-line\n",
        "text!\\\n",
        "\"\"\"\n",
        "print(s)"
      ],
      "metadata": {
        "colab": {
          "base_uri": "https://localhost:8080/"
        },
        "id": "IkdpBT9Ap4Fk",
        "outputId": "7327c255-9449-4e70-ccb7-9dbe4157cb60"
      },
      "execution_count": null,
      "outputs": [
        {
          "output_type": "stream",
          "name": "stdout",
          "text": [
            "muti-line\n",
            "text!\n"
          ]
        }
      ]
    },
    {
      "cell_type": "markdown",
      "source": [
        "**Concatenation**"
      ],
      "metadata": {
        "id": "rXFAica0p-Dy"
      }
    },
    {
      "cell_type": "code",
      "source": [
        "print('Py' + 'thon')"
      ],
      "metadata": {
        "colab": {
          "base_uri": "https://localhost:8080/"
        },
        "id": "FswBbg99qDYU",
        "outputId": "49e247cc-a3e7-4419-be89-a1988089314a"
      },
      "execution_count": null,
      "outputs": [
        {
          "output_type": "stream",
          "name": "stdout",
          "text": [
            "Python\n"
          ]
        }
      ]
    },
    {
      "cell_type": "code",
      "source": [
        "triple_python = 'Py' 'thon' ' '\n",
        "print(3*triple_python)"
      ],
      "metadata": {
        "colab": {
          "base_uri": "https://localhost:8080/"
        },
        "id": "H8-oBmAWqLzX",
        "outputId": "49bccf2a-ff07-4989-bd04-2ec6a32544bd"
      },
      "execution_count": null,
      "outputs": [
        {
          "output_type": "stream",
          "name": "stdout",
          "text": [
            "Python Python Python \n"
          ]
        }
      ]
    },
    {
      "cell_type": "code",
      "source": [
        "print('Py' 'thon')"
      ],
      "metadata": {
        "colab": {
          "base_uri": "https://localhost:8080/"
        },
        "id": "gY8iVItSqgmx",
        "outputId": "e68a32f1-e9a7-47e9-f98e-0a6e89dc8347"
      },
      "execution_count": null,
      "outputs": [
        {
          "output_type": "stream",
          "name": "stdout",
          "text": [
            "Python\n"
          ]
        }
      ]
    },
    {
      "cell_type": "code",
      "source": [
        "prefix = 'Py'\n",
        "print(prefix + 'thon')"
      ],
      "metadata": {
        "colab": {
          "base_uri": "https://localhost:8080/"
        },
        "id": "e2lmCiVXqlM4",
        "outputId": "27fc5505-f57f-4099-be7b-4257a3af2837"
      },
      "execution_count": null,
      "outputs": [
        {
          "output_type": "stream",
          "name": "stdout",
          "text": [
            "Python\n"
          ]
        }
      ]
    },
    {
      "cell_type": "code",
      "source": [
        "prefix = 'Py'\n",
        "prefix 'thon'"
      ],
      "metadata": {
        "colab": {
          "base_uri": "https://localhost:8080/",
          "height": 133
        },
        "id": "vzAGUEknqtq9",
        "outputId": "9a715f3a-16bd-46c8-c603-e5bd35276e26"
      },
      "execution_count": null,
      "outputs": [
        {
          "output_type": "error",
          "ename": "SyntaxError",
          "evalue": "ignored",
          "traceback": [
            "\u001b[0;36m  File \u001b[0;32m\"<ipython-input-22-779914c62160>\"\u001b[0;36m, line \u001b[0;32m2\u001b[0m\n\u001b[0;31m    prefix 'thon'\u001b[0m\n\u001b[0m                ^\u001b[0m\n\u001b[0;31mSyntaxError\u001b[0m\u001b[0;31m:\u001b[0m invalid syntax\n"
          ]
        }
      ]
    },
    {
      "cell_type": "markdown",
      "source": [
        "**String Indexing**"
      ],
      "metadata": {
        "id": "2wDpyVClq55N"
      }
    },
    {
      "cell_type": "code",
      "source": [
        "fruit = 'banana'\n",
        "print(fruit[0])\n",
        "print(fruit[1])\n",
        "print(fruit[5])"
      ],
      "metadata": {
        "colab": {
          "base_uri": "https://localhost:8080/"
        },
        "id": "nnHFSDKPq-tZ",
        "outputId": "1bfaf6c0-f27c-4602-f4d6-1475a1daa1c2"
      },
      "execution_count": null,
      "outputs": [
        {
          "output_type": "stream",
          "name": "stdout",
          "text": [
            "b\n",
            "a\n",
            "a\n"
          ]
        }
      ]
    },
    {
      "cell_type": "code",
      "source": [
        "fruit = 'banana'\n",
        "print(fruit[6])"
      ],
      "metadata": {
        "colab": {
          "base_uri": "https://localhost:8080/",
          "height": 187
        },
        "id": "ty4y6wc-rfwS",
        "outputId": "7a158a85-90b7-489e-f885-8f9fd730e2d2"
      },
      "execution_count": null,
      "outputs": [
        {
          "output_type": "error",
          "ename": "IndexError",
          "evalue": "ignored",
          "traceback": [
            "\u001b[0;31m---------------------------------------------------------------------------\u001b[0m",
            "\u001b[0;31mIndexError\u001b[0m                                Traceback (most recent call last)",
            "\u001b[0;32m<ipython-input-24-05cde65d2474>\u001b[0m in \u001b[0;36m<module>\u001b[0;34m()\u001b[0m\n\u001b[1;32m      1\u001b[0m \u001b[0mfruit\u001b[0m \u001b[0;34m=\u001b[0m \u001b[0;34m'banana'\u001b[0m\u001b[0;34m\u001b[0m\u001b[0;34m\u001b[0m\u001b[0m\n\u001b[0;32m----> 2\u001b[0;31m \u001b[0mprint\u001b[0m\u001b[0;34m(\u001b[0m\u001b[0mfruit\u001b[0m\u001b[0;34m[\u001b[0m\u001b[0;36m6\u001b[0m\u001b[0;34m]\u001b[0m\u001b[0;34m)\u001b[0m\u001b[0;34m\u001b[0m\u001b[0;34m\u001b[0m\u001b[0m\n\u001b[0m",
            "\u001b[0;31mIndexError\u001b[0m: string index out of range"
          ]
        }
      ]
    },
    {
      "cell_type": "markdown",
      "source": [
        "**String Indexing[2]**"
      ],
      "metadata": {
        "id": "sVcanLHHrt0W"
      }
    },
    {
      "cell_type": "code",
      "source": [
        "fruit = 'banana'\n",
        "print(fruit[1.5])"
      ],
      "metadata": {
        "colab": {
          "base_uri": "https://localhost:8080/",
          "height": 187
        },
        "id": "JGDmas4frxZX",
        "outputId": "a66a59e6-f841-4186-d2af-61c6bce77495"
      },
      "execution_count": null,
      "outputs": [
        {
          "output_type": "error",
          "ename": "TypeError",
          "evalue": "ignored",
          "traceback": [
            "\u001b[0;31m---------------------------------------------------------------------------\u001b[0m",
            "\u001b[0;31mTypeError\u001b[0m                                 Traceback (most recent call last)",
            "\u001b[0;32m<ipython-input-25-c3ab27ebac55>\u001b[0m in \u001b[0;36m<module>\u001b[0;34m()\u001b[0m\n\u001b[1;32m      1\u001b[0m \u001b[0mfruit\u001b[0m \u001b[0;34m=\u001b[0m \u001b[0;34m'banana'\u001b[0m\u001b[0;34m\u001b[0m\u001b[0;34m\u001b[0m\u001b[0m\n\u001b[0;32m----> 2\u001b[0;31m \u001b[0mprint\u001b[0m\u001b[0;34m(\u001b[0m\u001b[0mfruit\u001b[0m\u001b[0;34m[\u001b[0m\u001b[0;36m1.5\u001b[0m\u001b[0;34m]\u001b[0m\u001b[0;34m)\u001b[0m\u001b[0;34m\u001b[0m\u001b[0;34m\u001b[0m\u001b[0m\n\u001b[0m",
            "\u001b[0;31mTypeError\u001b[0m: string indices must be integers"
          ]
        }
      ]
    },
    {
      "cell_type": "code",
      "source": [
        "fruit = 'banana'\n",
        "length = len(fruit)\n",
        "print(\"length = \", length)\n",
        "print(\"Last character of fruit = \", fruit[length-1]) #พิมพ์อักษระตัวสุดท้ายของ fruit"
      ],
      "metadata": {
        "colab": {
          "base_uri": "https://localhost:8080/"
        },
        "id": "yFsgw3J2r829",
        "outputId": "0f1ff349-33f6-4318-af73-c641b15d2b81"
      },
      "execution_count": null,
      "outputs": [
        {
          "output_type": "stream",
          "name": "stdout",
          "text": [
            "length =  6\n",
            "Last character of fruit =  a\n"
          ]
        }
      ]
    },
    {
      "cell_type": "markdown",
      "source": [
        "**String Indexing[3]**"
      ],
      "metadata": {
        "id": "Vo75p6GDstWU"
      }
    },
    {
      "cell_type": "code",
      "source": [
        "word = 'Python'\n",
        "print(word[-1])\n",
        "print(word[-2])\n",
        "print(word[-6])"
      ],
      "metadata": {
        "colab": {
          "base_uri": "https://localhost:8080/"
        },
        "id": "X2cs07X9sv9x",
        "outputId": "eacfd5c5-e6e6-480b-bd37-ea926bded6e7"
      },
      "execution_count": null,
      "outputs": [
        {
          "output_type": "stream",
          "name": "stdout",
          "text": [
            "n\n",
            "o\n",
            "P\n"
          ]
        }
      ]
    },
    {
      "cell_type": "code",
      "source": [
        "word = 'Python'\n",
        "print(word[-7])"
      ],
      "metadata": {
        "colab": {
          "base_uri": "https://localhost:8080/",
          "height": 187
        },
        "id": "nqRwngeus_zw",
        "outputId": "fa90c641-a909-4df5-ac1f-023f3efab88d"
      },
      "execution_count": null,
      "outputs": [
        {
          "output_type": "error",
          "ename": "IndexError",
          "evalue": "ignored",
          "traceback": [
            "\u001b[0;31m---------------------------------------------------------------------------\u001b[0m",
            "\u001b[0;31mIndexError\u001b[0m                                Traceback (most recent call last)",
            "\u001b[0;32m<ipython-input-28-5fdcda56a1ba>\u001b[0m in \u001b[0;36m<module>\u001b[0;34m()\u001b[0m\n\u001b[1;32m      1\u001b[0m \u001b[0mword\u001b[0m \u001b[0;34m=\u001b[0m \u001b[0;34m'Python'\u001b[0m\u001b[0;34m\u001b[0m\u001b[0;34m\u001b[0m\u001b[0m\n\u001b[0;32m----> 2\u001b[0;31m \u001b[0mprint\u001b[0m\u001b[0;34m(\u001b[0m\u001b[0mword\u001b[0m\u001b[0;34m[\u001b[0m\u001b[0;34m-\u001b[0m\u001b[0;36m7\u001b[0m\u001b[0;34m]\u001b[0m\u001b[0;34m)\u001b[0m\u001b[0;34m\u001b[0m\u001b[0;34m\u001b[0m\u001b[0m\n\u001b[0m",
            "\u001b[0;31mIndexError\u001b[0m: string index out of range"
          ]
        }
      ]
    },
    {
      "cell_type": "markdown",
      "source": [
        "**Slicing**"
      ],
      "metadata": {
        "id": "GCo67ljrtFuI"
      }
    },
    {
      "cell_type": "code",
      "source": [
        "word = 'Python'\n",
        "print(word[0:2])\n",
        "print(word[2:5])"
      ],
      "metadata": {
        "colab": {
          "base_uri": "https://localhost:8080/"
        },
        "id": "v76XXuF6tEzU",
        "outputId": "afb2496e-62b3-418a-e240-a0cf69fa4fef"
      },
      "execution_count": null,
      "outputs": [
        {
          "output_type": "stream",
          "name": "stdout",
          "text": [
            "Py\n",
            "tho\n"
          ]
        }
      ]
    },
    {
      "cell_type": "code",
      "source": [
        "word = 'Python'\n",
        "print(word[-6:-4])\n",
        "print(word[0:6])"
      ],
      "metadata": {
        "colab": {
          "base_uri": "https://localhost:8080/"
        },
        "id": "Xo-xpWi8uB6r",
        "outputId": "fd818a18-7cfe-4000-eb58-021be489c1e6"
      },
      "execution_count": null,
      "outputs": [
        {
          "output_type": "stream",
          "name": "stdout",
          "text": [
            "Py\n",
            "Python\n"
          ]
        }
      ]
    },
    {
      "cell_type": "markdown",
      "source": [
        "**Slicing[2]**"
      ],
      "metadata": {
        "id": "FrVzKFpquPt4"
      }
    },
    {
      "cell_type": "code",
      "source": [
        "word = 'Python'\n",
        "print(word[:])\n",
        "print(word[:2] + word[2:])\n",
        "print(word[:2])\n",
        "print(word[4:])\n",
        "print(word[-2:])"
      ],
      "metadata": {
        "colab": {
          "base_uri": "https://localhost:8080/"
        },
        "id": "u0XfUuqRuPX-",
        "outputId": "e6e54ad3-a134-4508-b3d1-69fcd97bfec1"
      },
      "execution_count": null,
      "outputs": [
        {
          "output_type": "stream",
          "name": "stdout",
          "text": [
            "Python\n",
            "Python\n",
            "Py\n",
            "on\n",
            "on\n"
          ]
        }
      ]
    },
    {
      "cell_type": "markdown",
      "source": [
        "**Slicing[3]**"
      ],
      "metadata": {
        "id": "0FVnxS-9vKGa"
      }
    },
    {
      "cell_type": "code",
      "source": [
        "word = 'Python'\n",
        "print(word[42])"
      ],
      "metadata": {
        "colab": {
          "base_uri": "https://localhost:8080/",
          "height": 187
        },
        "id": "cgFCFqTqvQ5Z",
        "outputId": "a8bacb14-aa67-4e3f-e6b3-b8004dcd22e8"
      },
      "execution_count": null,
      "outputs": [
        {
          "output_type": "error",
          "ename": "IndexError",
          "evalue": "ignored",
          "traceback": [
            "\u001b[0;31m---------------------------------------------------------------------------\u001b[0m",
            "\u001b[0;31mIndexError\u001b[0m                                Traceback (most recent call last)",
            "\u001b[0;32m<ipython-input-38-40571910868a>\u001b[0m in \u001b[0;36m<module>\u001b[0;34m()\u001b[0m\n\u001b[1;32m      1\u001b[0m \u001b[0mword\u001b[0m \u001b[0;34m=\u001b[0m \u001b[0;34m'Python'\u001b[0m\u001b[0;34m\u001b[0m\u001b[0;34m\u001b[0m\u001b[0m\n\u001b[0;32m----> 2\u001b[0;31m \u001b[0mprint\u001b[0m\u001b[0;34m(\u001b[0m\u001b[0mword\u001b[0m\u001b[0;34m[\u001b[0m\u001b[0;36m42\u001b[0m\u001b[0;34m]\u001b[0m\u001b[0;34m)\u001b[0m\u001b[0;34m\u001b[0m\u001b[0;34m\u001b[0m\u001b[0m\n\u001b[0m",
            "\u001b[0;31mIndexError\u001b[0m: string index out of range"
          ]
        }
      ]
    },
    {
      "cell_type": "code",
      "source": [
        "word = 'Python'\n",
        "print(word[4:42])\n",
        "print(word[42:])"
      ],
      "metadata": {
        "colab": {
          "base_uri": "https://localhost:8080/"
        },
        "id": "1a3m0cfNvaF2",
        "outputId": "3d5a108a-276a-481f-910f-f4129edd84c6"
      },
      "execution_count": null,
      "outputs": [
        {
          "output_type": "stream",
          "name": "stdout",
          "text": [
            "on\n",
            "\n"
          ]
        }
      ]
    },
    {
      "cell_type": "markdown",
      "source": [
        "**Slicing[4]**"
      ],
      "metadata": {
        "id": "ZkYEOpOlvqzY"
      }
    },
    {
      "cell_type": "code",
      "source": [
        "word = 'Hello Python'\n",
        "print(word[2:9:2])\n",
        "print(word[len(word)-1::-1])\n",
        "print(word[len(word)::-1])"
      ],
      "metadata": {
        "colab": {
          "base_uri": "https://localhost:8080/"
        },
        "id": "hhtapFHbvs3Y",
        "outputId": "cddc0373-687e-49b2-d897-3d7f9692f092"
      },
      "execution_count": null,
      "outputs": [
        {
          "output_type": "stream",
          "name": "stdout",
          "text": [
            "loPt\n",
            "nohtyP olleH\n",
            "nohtyP olleH\n"
          ]
        }
      ]
    },
    {
      "cell_type": "markdown",
      "source": [
        "**immutability**"
      ],
      "metadata": {
        "id": "DVwek_W7wd5V"
      }
    },
    {
      "cell_type": "code",
      "source": [
        "word = 'Hello Python'\n",
        "word[5] = '-'"
      ],
      "metadata": {
        "colab": {
          "base_uri": "https://localhost:8080/",
          "height": 187
        },
        "id": "jfV_YRXQwkg9",
        "outputId": "1c3cd648-1454-491d-dfa6-47d4fc2996ff"
      },
      "execution_count": null,
      "outputs": [
        {
          "output_type": "error",
          "ename": "TypeError",
          "evalue": "ignored",
          "traceback": [
            "\u001b[0;31m---------------------------------------------------------------------------\u001b[0m",
            "\u001b[0;31mTypeError\u001b[0m                                 Traceback (most recent call last)",
            "\u001b[0;32m<ipython-input-45-baeb0faa2ecd>\u001b[0m in \u001b[0;36m<module>\u001b[0;34m()\u001b[0m\n\u001b[1;32m      1\u001b[0m \u001b[0mword\u001b[0m \u001b[0;34m=\u001b[0m \u001b[0;34m'Hello Python'\u001b[0m\u001b[0;34m\u001b[0m\u001b[0;34m\u001b[0m\u001b[0m\n\u001b[0;32m----> 2\u001b[0;31m \u001b[0mword\u001b[0m\u001b[0;34m[\u001b[0m\u001b[0;36m5\u001b[0m\u001b[0;34m]\u001b[0m \u001b[0;34m=\u001b[0m \u001b[0;34m'-'\u001b[0m\u001b[0;34m\u001b[0m\u001b[0;34m\u001b[0m\u001b[0m\n\u001b[0m",
            "\u001b[0;31mTypeError\u001b[0m: 'str' object does not support item assignment"
          ]
        }
      ]
    },
    {
      "cell_type": "code",
      "source": [
        "word = 'Hello Python'\n",
        "word_n = word[0:5] + '-' + word[6:]\n",
        "print(word_n)"
      ],
      "metadata": {
        "colab": {
          "base_uri": "https://localhost:8080/"
        },
        "id": "Q2tIcB3iwv8u",
        "outputId": "aea8a6da-2c16-430c-8976-a5e5460a151d"
      },
      "execution_count": null,
      "outputs": [
        {
          "output_type": "stream",
          "name": "stdout",
          "text": [
            "Hello-Python\n"
          ]
        }
      ]
    },
    {
      "cell_type": "code",
      "source": [
        "word = 'Hello'\n",
        "word1 = 'Python'\n",
        "word = word + '-' + word1\n",
        "print(word)"
      ],
      "metadata": {
        "colab": {
          "base_uri": "https://localhost:8080/"
        },
        "id": "Kc8BMhZsw_DQ",
        "outputId": "e92a455d-8a58-41df-e22a-970a7edfedcd"
      },
      "execution_count": null,
      "outputs": [
        {
          "output_type": "stream",
          "name": "stdout",
          "text": [
            "Hello-Python\n"
          ]
        }
      ]
    },
    {
      "cell_type": "code",
      "source": [
        "word = 'Hello'\n",
        "word1 = 'Python'\n",
        "word = '-'.join([word, word1])\n",
        "print(word)"
      ],
      "metadata": {
        "colab": {
          "base_uri": "https://localhost:8080/"
        },
        "id": "3jAq5LzNxNyR",
        "outputId": "c5673f78-c669-4236-a6c4-566299ceef16"
      },
      "execution_count": null,
      "outputs": [
        {
          "output_type": "stream",
          "name": "stdout",
          "text": [
            "Hello-Python\n"
          ]
        }
      ]
    },
    {
      "cell_type": "markdown",
      "source": [
        "**Traversal with a while Loop**"
      ],
      "metadata": {
        "id": "GnT5g3KzRYEg"
      }
    },
    {
      "cell_type": "code",
      "execution_count": null,
      "metadata": {
        "id": "iDK3Cn0GQisx",
        "colab": {
          "base_uri": "https://localhost:8080/"
        },
        "outputId": "a4595454-4b30-4014-8da1-78b8d1b08179"
      },
      "outputs": [
        {
          "output_type": "stream",
          "name": "stdout",
          "text": [
            "b\n",
            "a\n",
            "n\n",
            "a\n",
            "n\n",
            "a\n"
          ]
        }
      ],
      "source": [
        "fruit = \"banana\"\n",
        "index = 0\n",
        "\n",
        "while index < len(fruit):\n",
        "      letter = fruit[index]\n",
        "      print(letter)\n",
        "      index = index + 1"
      ]
    },
    {
      "cell_type": "markdown",
      "source": [
        "**Traversal with a for Loop with indexes**"
      ],
      "metadata": {
        "id": "1vwylUONReNI"
      }
    },
    {
      "cell_type": "code",
      "source": [
        "s = \"abcd\"\n",
        "length = len(s)\n",
        "for i in range(length):\n",
        "  print(i, s[i])"
      ],
      "metadata": {
        "colab": {
          "base_uri": "https://localhost:8080/"
        },
        "id": "3zeYbK97RXJc",
        "outputId": "0bc2afc3-6a82-49e6-adbb-5ebf7403c224"
      },
      "execution_count": null,
      "outputs": [
        {
          "output_type": "stream",
          "name": "stdout",
          "text": [
            "0 a\n",
            "1 b\n",
            "2 c\n",
            "3 d\n"
          ]
        }
      ]
    },
    {
      "cell_type": "markdown",
      "source": [
        "**Traversal with a for Loop without indexes**"
      ],
      "metadata": {
        "id": "3ufgWTzLRw4o"
      }
    },
    {
      "cell_type": "code",
      "source": [
        "s = \"abcd\"\n",
        "for c in s: #คล้ายกับ for i in range(n)\n",
        "    print(c)"
      ],
      "metadata": {
        "colab": {
          "base_uri": "https://localhost:8080/"
        },
        "id": "pZ5V7x2zRzQt",
        "outputId": "ea7b3fbc-c155-4265-d6c6-ac8f46c7312c"
      },
      "execution_count": null,
      "outputs": [
        {
          "output_type": "stream",
          "name": "stdout",
          "text": [
            "a\n",
            "b\n",
            "c\n",
            "d\n"
          ]
        }
      ]
    },
    {
      "cell_type": "markdown",
      "source": [
        "**Searching operator**"
      ],
      "metadata": {
        "id": "y3ZIXBA_VFZW"
      }
    },
    {
      "cell_type": "code",
      "source": [
        "def find(word, letter):\n",
        "  index = 0\n",
        "  while index < len(word):\n",
        "      if word[index] == letter:\n",
        "          return index\n",
        "      index = index + 1\n",
        "          return -1\n",
        "\n",
        "print(find(\"Hello Kitty\", 'H'))\n",
        "print(find(\"Hello Kitty\", 'h'))"
      ],
      "metadata": {
        "colab": {
          "base_uri": "https://localhost:8080/"
        },
        "id": "RhHjTgGdaHj1",
        "outputId": "95e67b6b-a614-4509-f0fd-1bb3243138e2"
      },
      "execution_count": null,
      "outputs": [
        {
          "output_type": "stream",
          "name": "stdout",
          "text": [
            "0\n",
            "-1\n"
          ]
        }
      ]
    },
    {
      "cell_type": "markdown",
      "source": [
        "**Practice**"
      ],
      "metadata": {
        "id": "fCGflhahzJDz"
      }
    },
    {
      "cell_type": "code",
      "source": [
        "def find(word, letter, start_indx):\n",
        "      index = start_indx\n",
        "      while index < len(word):\n",
        "          if word[index] == letter:\n",
        "            return index\n",
        "          index = index + 1\n",
        "          return -1\n",
        "\n",
        "print(\"Find 'H' in 'Hello Kitty' start from index 1: \")\n",
        "print(find(\"Hello Kitty\", 'H', 1))\n",
        "print(\"Find 'H' in 'Hello Kitty' Start from index 0\" )\n",
        "print(find(\"Hello Kitty\", 'H', 0))"
      ],
      "metadata": {
        "colab": {
          "base_uri": "https://localhost:8080/"
        },
        "id": "ZNOzkbd3zMV0",
        "outputId": "1e952c77-2e18-4ca3-ddbb-9b7b08809d47"
      },
      "execution_count": null,
      "outputs": [
        {
          "output_type": "stream",
          "name": "stdout",
          "text": [
            "Find 'H' in 'Hello Kitty' start from index 1: \n",
            "-1\n",
            "Find 'H' in 'Hello Kitty' Start from index 0\n",
            "0\n"
          ]
        }
      ]
    },
    {
      "cell_type": "markdown",
      "source": [
        "**Example: Looping and Counting**"
      ],
      "metadata": {
        "id": "WsnlEQIn3qlk"
      }
    },
    {
      "cell_type": "code",
      "source": [
        "def count_letter(word, key):\n",
        "  count = 0\n",
        "\n",
        "  for letter in word:\n",
        "      if letter == key:\n",
        "          count = count + 1\n",
        "  return count\n",
        "\n",
        "print(count_letter('banana', 'a'))"
      ],
      "metadata": {
        "colab": {
          "base_uri": "https://localhost:8080/"
        },
        "id": "y7ktQ2HU3wpH",
        "outputId": "896968ab-aeb6-4b47-871c-bedf64b8ed24"
      },
      "execution_count": null,
      "outputs": [
        {
          "output_type": "stream",
          "name": "stdout",
          "text": [
            "3\n"
          ]
        }
      ]
    },
    {
      "cell_type": "markdown",
      "source": [
        "**The in Operator**"
      ],
      "metadata": {
        "id": "YuwKrYbz8h1B"
      }
    },
    {
      "cell_type": "code",
      "source": [
        "print('a' in 'banana')\n",
        "print('z' not in 'banana')\n",
        "print('na' in 'banana')\n",
        "print('seed' in 'banana')\n",
        "print('a ' in 'banana')"
      ],
      "metadata": {
        "colab": {
          "base_uri": "https://localhost:8080/"
        },
        "id": "8heajEnt8lfM",
        "outputId": "cd1679da-f95b-4864-f868-0f605e19067e"
      },
      "execution_count": null,
      "outputs": [
        {
          "output_type": "stream",
          "name": "stdout",
          "text": [
            "True\n",
            "True\n",
            "True\n",
            "False\n",
            "False\n"
          ]
        }
      ]
    },
    {
      "cell_type": "code",
      "source": [
        "def in_both(word1, word2):\n",
        "  for letter in word1:\n",
        "    if letter in word2:\n",
        "      print(letter)\n",
        "\n",
        "in_both(\"orange\", \"apple\")"
      ],
      "metadata": {
        "colab": {
          "base_uri": "https://localhost:8080/"
        },
        "id": "zAmMK2fs89te",
        "outputId": "99cd2695-914b-4466-add3-4f7d7cfd7571"
      },
      "execution_count": null,
      "outputs": [
        {
          "output_type": "stream",
          "name": "stdout",
          "text": [
            "a\n",
            "e\n"
          ]
        }
      ]
    },
    {
      "cell_type": "markdown",
      "source": [
        "**String Comparison**"
      ],
      "metadata": {
        "id": "8BcAX2JvuVwH"
      }
    },
    {
      "cell_type": "code",
      "source": [
        "print('bat' <= 'cat')\n",
        "print('rat' < 'cat')\n",
        "print('apple' < 'Apple')"
      ],
      "metadata": {
        "colab": {
          "base_uri": "https://localhost:8080/"
        },
        "id": "AJyenbUtubV1",
        "outputId": "b672d28f-5b6d-4314-8118-ecd44adc42b6"
      },
      "execution_count": null,
      "outputs": [
        {
          "output_type": "stream",
          "name": "stdout",
          "text": [
            "True\n",
            "False\n",
            "False\n"
          ]
        }
      ]
    },
    {
      "cell_type": "markdown",
      "source": [
        "**String-related Built-in Function**"
      ],
      "metadata": {
        "id": "TXVS6KxFuvXw"
      }
    },
    {
      "cell_type": "code",
      "source": [
        "print(bin(3\n",
        "          ))\n",
        "print(chr(97))\n",
        "print(eval('1 + 1'))\n",
        "print(hex(18))\n",
        "print(oct(9))\n",
        "print(ord('a'))\n",
        "\n",
        "print(str(18))\n",
        "print(str(0x35))\n",
        "print(str(None))\n",
        "print(str(print))"
      ],
      "metadata": {
        "colab": {
          "base_uri": "https://localhost:8080/"
        },
        "id": "YbQ9peqZu2y6",
        "outputId": "5ed1ada0-f563-4053-c6e2-327edbe7c152"
      },
      "execution_count": null,
      "outputs": [
        {
          "output_type": "stream",
          "name": "stdout",
          "text": [
            "0b11\n",
            "a\n",
            "2\n",
            "0x12\n",
            "0o11\n",
            "97\n",
            "18\n",
            "53\n",
            "None\n",
            "<built-in function print>\n"
          ]
        }
      ]
    },
    {
      "cell_type": "markdown",
      "source": [
        "**String Constants**"
      ],
      "metadata": {
        "id": "45uMLBOpv7fx"
      }
    },
    {
      "cell_type": "code",
      "source": [
        "import string\n",
        "print(string.digits)"
      ],
      "metadata": {
        "colab": {
          "base_uri": "https://localhost:8080/"
        },
        "id": "0aay7ru0v7O_",
        "outputId": "3a3a8ee7-c5f8-47b2-c7ff-13d24696acd5"
      },
      "execution_count": null,
      "outputs": [
        {
          "output_type": "stream",
          "name": "stdout",
          "text": [
            "0123456789\n"
          ]
        }
      ]
    },
    {
      "cell_type": "markdown",
      "source": [
        "**Basic String Methods**"
      ],
      "metadata": {
        "id": "4PQbMnSfxM2h"
      }
    },
    {
      "cell_type": "code",
      "source": [
        "word = 'banana'\n",
        "new_word = word.upper()\n",
        "print(new_word)"
      ],
      "metadata": {
        "colab": {
          "base_uri": "https://localhost:8080/"
        },
        "id": "v_0g3aZixRJM",
        "outputId": "360a129d-d954-4bf2-f033-6fbcfeac4378"
      },
      "execution_count": null,
      "outputs": [
        {
          "output_type": "stream",
          "name": "stdout",
          "text": [
            "BANANA\n"
          ]
        }
      ]
    },
    {
      "cell_type": "markdown",
      "source": [
        "**Basic String Methods [2]**"
      ],
      "metadata": {
        "id": "C39rCBwwi0yD"
      }
    },
    {
      "cell_type": "code",
      "source": [
        "print('banana'.count('na'))\n",
        "print('banana'.count('aa'))\n",
        "print('Quadruple'.endswith('uple'))\n",
        "print('str123'.isalpha())\n",
        "print('abc'.isalpha())\n",
        "print('str123'.isdigit())\n",
        "print('AbC'.islower())\n",
        "print('abc'.islower())"
      ],
      "metadata": {
        "colab": {
          "base_uri": "https://localhost:8080/"
        },
        "id": "jA6q7hRhiywQ",
        "outputId": "475aaeb8-109e-4987-ffca-438057ac2d24"
      },
      "execution_count": null,
      "outputs": [
        {
          "output_type": "stream",
          "name": "stdout",
          "text": [
            "2\n",
            "0\n",
            "True\n",
            "False\n",
            "True\n",
            "False\n",
            "False\n",
            "True\n"
          ]
        }
      ]
    },
    {
      "cell_type": "markdown",
      "source": [
        "**Basic String Methods [3]**"
      ],
      "metadata": {
        "id": "G1xgIePckOOl"
      }
    },
    {
      "cell_type": "code",
      "source": [
        "print(''.isspace())\n",
        "print(' '.isspace())\n",
        "print('Abc'.isupper())\n",
        "print('ABC'.isupper())\n",
        "print('banana'.replace('na','NA'))\n",
        "print('banana'.replace('na','NA',1))\n",
        "print('Abc'.upper())\n",
        "print('Abc'.lower())"
      ],
      "metadata": {
        "colab": {
          "base_uri": "https://localhost:8080/"
        },
        "id": "SoAvSjgCkRVK",
        "outputId": "c7287340-261f-4176-ba62-c18b4eaa9854"
      },
      "execution_count": null,
      "outputs": [
        {
          "output_type": "stream",
          "name": "stdout",
          "text": [
            "False\n",
            "True\n",
            "False\n",
            "True\n",
            "baNANA\n",
            "baNAna\n",
            "ABC\n",
            "abc\n"
          ]
        }
      ]
    },
    {
      "cell_type": "markdown",
      "source": [
        "**Basic String Methods [4]**"
      ],
      "metadata": {
        "id": "IsL2Iexklof8"
      }
    },
    {
      "cell_type": "code",
      "source": [
        "print('1,2,3'.split(','))\n",
        "print('1,2,3,4,5,6'.split(',', maxsplit=1))\n",
        "print('1,2,3,4,5,6'.split(',', maxsplit=3))\n",
        "print('1,2,3, '.split(','))"
      ],
      "metadata": {
        "colab": {
          "base_uri": "https://localhost:8080/"
        },
        "id": "im3eL73LlqPC",
        "outputId": "5c3cc7a8-f6e5-4151-dbbc-7c8e7358c598"
      },
      "execution_count": null,
      "outputs": [
        {
          "output_type": "stream",
          "name": "stdout",
          "text": [
            "['1', '2', '3']\n",
            "['1', '2,3,4,5,6']\n",
            "['1', '2', '3', '4,5,6']\n",
            "['1', '2', '3', ' ']\n"
          ]
        }
      ]
    },
    {
      "cell_type": "code",
      "source": [
        "print('banana'.startswith('ba'))\n",
        "print('www.example.com'.strip('cmowz.'))\n",
        "print('www.example.com'.lstrip('cmowz.'))\n",
        "print('www.example.com'.rstrip('cmowz.'))\n",
        "print('   spacious    '.strip())\n",
        "print('   spacious    '.lstrip())\n",
        "print('   spacious    '.rstrip())"
      ],
      "metadata": {
        "colab": {
          "base_uri": "https://localhost:8080/"
        },
        "id": "kBdHBmmmntuq",
        "outputId": "b2ad6f19-bfc6-4967-f7de-8914a30a0461"
      },
      "execution_count": null,
      "outputs": [
        {
          "output_type": "stream",
          "name": "stdout",
          "text": [
            "True\n",
            "example\n",
            "example.com\n",
            "www.example\n",
            "spacious\n",
            "spacious    \n",
            "   spacious\n"
          ]
        }
      ]
    },
    {
      "cell_type": "markdown",
      "source": [
        "**Basic String Methods [5]**"
      ],
      "metadata": {
        "id": "2hgVHIa2pUKC"
      }
    },
    {
      "cell_type": "code",
      "source": [
        "s = \"\"\"\n",
        "This is a sample\n",
        "multi-line\n",
        "string\n",
        "\"\"\"\n",
        "\n",
        "print(\"Line with splitlines():\")\n",
        "for line in s.splitlines():\n",
        "  print(\" line:\", line)\n",
        "\n",
        "print(\"==================\")\n",
        "\n",
        "print(\"Line with splitLine(True):\")\n",
        "for line in s.splitlines(True):\n",
        "  print(\" line:\", line)"
      ],
      "metadata": {
        "colab": {
          "base_uri": "https://localhost:8080/"
        },
        "id": "eITGf_jQpYDd",
        "outputId": "47a5df1c-8e00-467b-a52c-8f7ebc8fd3fb"
      },
      "execution_count": null,
      "outputs": [
        {
          "output_type": "stream",
          "name": "stdout",
          "text": [
            "Line with splitlines():\n",
            " line: \n",
            " line: This is a sample\n",
            " line: multi-line\n",
            " line: string\n",
            "==================\n",
            "Line with splitLine(True):\n",
            " line: \n",
            "\n",
            " line: This is a sample\n",
            "\n",
            " line: multi-line\n",
            "\n",
            " line: string\n",
            "\n"
          ]
        }
      ]
    },
    {
      "cell_type": "code",
      "source": [
        "import numpy as np\n",
        "import pandas as pd\n",
        "data = pd.Series([1., -99., 2., -99., 4.])\n",
        "data.replace(-99, np.nan)"
      ],
      "metadata": {
        "colab": {
          "base_uri": "https://localhost:8080/"
        },
        "id": "BojAsMl-1VRL",
        "outputId": "cbc92395-aa57-49ae-9f93-657f58ca0bfa"
      },
      "execution_count": null,
      "outputs": [
        {
          "output_type": "execute_result",
          "data": {
            "text/plain": [
              "0    1.0\n",
              "1    NaN\n",
              "2    2.0\n",
              "3    NaN\n",
              "4    4.0\n",
              "dtype: float64"
            ]
          },
          "metadata": {},
          "execution_count": 2
        }
      ]
    }
  ]
}